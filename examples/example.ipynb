{
 "cells": [
  {
   "attachments": {},
   "cell_type": "markdown",
   "metadata": {},
   "source": [
    "# OLS example"
   ]
  },
  {
   "cell_type": "code",
   "execution_count": 8,
   "metadata": {},
   "outputs": [],
   "source": [
    "import sys\n",
    "sys.path.append('..')  # Add the parent directory to sys.path\n",
    "\n",
    "from reg_stat_inference import (\n",
    "    treat_regression_model,\n",
    "    treat_multicollinearity,\n",
    "    treat_pvalue\n",
    ")\n",
    "\n",
    "import pandas as pd\n",
    "import statsmodels.api as sm\n",
    "from sklearn.datasets import (fetch_california_housing, load_diabetes)\n"
   ]
  },
  {
   "cell_type": "code",
   "execution_count": 2,
   "metadata": {},
   "outputs": [
    {
     "data": {
      "text/html": [
       "<div>\n",
       "<style scoped>\n",
       "    .dataframe tbody tr th:only-of-type {\n",
       "        vertical-align: middle;\n",
       "    }\n",
       "\n",
       "    .dataframe tbody tr th {\n",
       "        vertical-align: top;\n",
       "    }\n",
       "\n",
       "    .dataframe thead th {\n",
       "        text-align: right;\n",
       "    }\n",
       "</style>\n",
       "<table border=\"1\" class=\"dataframe\">\n",
       "  <thead>\n",
       "    <tr style=\"text-align: right;\">\n",
       "      <th></th>\n",
       "      <th>MedInc</th>\n",
       "      <th>HouseAge</th>\n",
       "      <th>AveRooms</th>\n",
       "      <th>AveBedrms</th>\n",
       "      <th>Population</th>\n",
       "      <th>AveOccup</th>\n",
       "      <th>Latitude</th>\n",
       "      <th>Longitude</th>\n",
       "    </tr>\n",
       "  </thead>\n",
       "  <tbody>\n",
       "    <tr>\n",
       "      <th>0</th>\n",
       "      <td>8.3252</td>\n",
       "      <td>41.0</td>\n",
       "      <td>6.984127</td>\n",
       "      <td>1.023810</td>\n",
       "      <td>322.0</td>\n",
       "      <td>2.555556</td>\n",
       "      <td>37.88</td>\n",
       "      <td>-122.23</td>\n",
       "    </tr>\n",
       "    <tr>\n",
       "      <th>1</th>\n",
       "      <td>8.3014</td>\n",
       "      <td>21.0</td>\n",
       "      <td>6.238137</td>\n",
       "      <td>0.971880</td>\n",
       "      <td>2401.0</td>\n",
       "      <td>2.109842</td>\n",
       "      <td>37.86</td>\n",
       "      <td>-122.22</td>\n",
       "    </tr>\n",
       "    <tr>\n",
       "      <th>2</th>\n",
       "      <td>7.2574</td>\n",
       "      <td>52.0</td>\n",
       "      <td>8.288136</td>\n",
       "      <td>1.073446</td>\n",
       "      <td>496.0</td>\n",
       "      <td>2.802260</td>\n",
       "      <td>37.85</td>\n",
       "      <td>-122.24</td>\n",
       "    </tr>\n",
       "    <tr>\n",
       "      <th>3</th>\n",
       "      <td>5.6431</td>\n",
       "      <td>52.0</td>\n",
       "      <td>5.817352</td>\n",
       "      <td>1.073059</td>\n",
       "      <td>558.0</td>\n",
       "      <td>2.547945</td>\n",
       "      <td>37.85</td>\n",
       "      <td>-122.25</td>\n",
       "    </tr>\n",
       "    <tr>\n",
       "      <th>4</th>\n",
       "      <td>3.8462</td>\n",
       "      <td>52.0</td>\n",
       "      <td>6.281853</td>\n",
       "      <td>1.081081</td>\n",
       "      <td>565.0</td>\n",
       "      <td>2.181467</td>\n",
       "      <td>37.85</td>\n",
       "      <td>-122.25</td>\n",
       "    </tr>\n",
       "  </tbody>\n",
       "</table>\n",
       "</div>"
      ],
      "text/plain": [
       "   MedInc  HouseAge  AveRooms  AveBedrms  Population  AveOccup  Latitude  \\\n",
       "0  8.3252      41.0  6.984127   1.023810       322.0  2.555556     37.88   \n",
       "1  8.3014      21.0  6.238137   0.971880      2401.0  2.109842     37.86   \n",
       "2  7.2574      52.0  8.288136   1.073446       496.0  2.802260     37.85   \n",
       "3  5.6431      52.0  5.817352   1.073059       558.0  2.547945     37.85   \n",
       "4  3.8462      52.0  6.281853   1.081081       565.0  2.181467     37.85   \n",
       "\n",
       "   Longitude  \n",
       "0    -122.23  \n",
       "1    -122.22  \n",
       "2    -122.24  \n",
       "3    -122.25  \n",
       "4    -122.25  "
      ]
     },
     "execution_count": 2,
     "metadata": {},
     "output_type": "execute_result"
    }
   ],
   "source": [
    "# Load the California housing dataset from scikit-learn\n",
    "data = fetch_california_housing(as_frame= True)\n",
    "X = data.data\n",
    "y = data.target\n",
    "X.head()"
   ]
  },
  {
   "cell_type": "code",
   "execution_count": 3,
   "metadata": {},
   "outputs": [
    {
     "name": "stdout",
     "output_type": "stream",
     "text": [
      "                            OLS Regression Results                            \n",
      "==============================================================================\n",
      "Dep. Variable:            MedHouseVal   R-squared:                       0.543\n",
      "Model:                            OLS   Adj. R-squared:                  0.543\n",
      "Method:                 Least Squares   F-statistic:                     3498.\n",
      "Date:                Wed, 23 Aug 2023   Prob (F-statistic):               0.00\n",
      "Time:                        19:13:56   Log-Likelihood:                -24167.\n",
      "No. Observations:               20640   AIC:                         4.835e+04\n",
      "Df Residuals:                   20632   BIC:                         4.841e+04\n",
      "Df Model:                           7                                         \n",
      "Covariance Type:            nonrobust                                         \n",
      "==============================================================================\n",
      "                 coef    std err          t      P>|t|      [0.025      0.975]\n",
      "------------------------------------------------------------------------------\n",
      "const          0.6855      0.100      6.853      0.000       0.489       0.882\n",
      "MedInc         0.5271      0.004    125.655      0.000       0.519       0.535\n",
      "HouseAge       0.0165      0.000     35.685      0.000       0.016       0.017\n",
      "AveRooms      -0.1973      0.006    -32.266      0.000      -0.209      -0.185\n",
      "AveBedrms      0.9362      0.030     31.389      0.000       0.878       0.995\n",
      "Population  1.651e-05    5.1e-06      3.235      0.001     6.5e-06    2.65e-05\n",
      "AveOccup      -0.0048      0.001     -9.117      0.000      -0.006      -0.004\n",
      "Latitude      -0.0307      0.003    -11.694      0.000      -0.036      -0.026\n",
      "==============================================================================\n",
      "Omnibus:                     4368.827   Durbin-Watson:                   0.929\n",
      "Prob(Omnibus):                  0.000   Jarque-Bera (JB):            15212.413\n",
      "Skew:                           1.049   Prob(JB):                         0.00\n",
      "Kurtosis:                       6.645   Cond. No.                     3.37e+04\n",
      "==============================================================================\n",
      "\n",
      "Notes:\n",
      "[1] Standard Errors assume that the covariance matrix of the errors is correctly specified.\n",
      "[2] The condition number is large, 3.37e+04. This might indicate that there are\n",
      "strong multicollinearity or other numerical problems.\n"
     ]
    }
   ],
   "source": [
    "# Treat multicollinearity\n",
    "result_multicollinearity = treat_multicollinearity(X, y, threshhold_vif = 5, reg_type='OLS')\n",
    "\n",
    "# Print the model summary\n",
    "print(result_multicollinearity.model.summary())"
   ]
  },
  {
   "cell_type": "code",
   "execution_count": 4,
   "metadata": {},
   "outputs": [
    {
     "name": "stdout",
     "output_type": "stream",
     "text": [
      "                            OLS Regression Results                            \n",
      "==============================================================================\n",
      "Dep. Variable:            MedHouseVal   R-squared:                       0.606\n",
      "Model:                            OLS   Adj. R-squared:                  0.606\n",
      "Method:                 Least Squares   F-statistic:                     4538.\n",
      "Date:                Wed, 23 Aug 2023   Prob (F-statistic):               0.00\n",
      "Time:                        19:13:56   Log-Likelihood:                -22624.\n",
      "No. Observations:               20640   AIC:                         4.526e+04\n",
      "Df Residuals:                   20632   BIC:                         4.533e+04\n",
      "Df Model:                           7                                         \n",
      "Covariance Type:            nonrobust                                         \n",
      "==============================================================================\n",
      "                 coef    std err          t      P>|t|      [0.025      0.975]\n",
      "------------------------------------------------------------------------------\n",
      "const        -36.9175      0.658    -56.085      0.000     -38.208     -35.627\n",
      "MedInc         0.4368      0.004    104.089      0.000       0.429       0.445\n",
      "HouseAge       0.0096      0.000     22.602      0.000       0.009       0.010\n",
      "AveRooms      -0.1071      0.006    -18.217      0.000      -0.119      -0.096\n",
      "AveBedrms      0.6449      0.028     22.922      0.000       0.590       0.700\n",
      "AveOccup      -0.0038      0.000     -7.861      0.000      -0.005      -0.003\n",
      "Latitude      -0.4207      0.007    -58.763      0.000      -0.435      -0.407\n",
      "Longitude     -0.4340      0.008    -57.782      0.000      -0.449      -0.419\n",
      "==============================================================================\n",
      "Omnibus:                     4406.193   Durbin-Watson:                   0.885\n",
      "Prob(Omnibus):                  0.000   Jarque-Bera (JB):            14155.786\n",
      "Skew:                           1.084   Prob(JB):                         0.00\n",
      "Kurtosis:                       6.429   Cond. No.                     1.68e+04\n",
      "==============================================================================\n",
      "\n",
      "Notes:\n",
      "[1] Standard Errors assume that the covariance matrix of the errors is correctly specified.\n",
      "[2] The condition number is large, 1.68e+04. This might indicate that there are\n",
      "strong multicollinearity or other numerical problems.\n"
     ]
    }
   ],
   "source": [
    "# Treat p_values\n",
    "result_p_values= treat_pvalue(X, y, threshold_pval= 0.05, reg_type='OLS')\n",
    "\n",
    "# Print the model summary\n",
    "print(result_p_values.model.summary())"
   ]
  },
  {
   "cell_type": "code",
   "execution_count": 5,
   "metadata": {},
   "outputs": [
    {
     "name": "stdout",
     "output_type": "stream",
     "text": [
      "                            OLS Regression Results                            \n",
      "==============================================================================\n",
      "Dep. Variable:            MedHouseVal   R-squared:                       0.543\n",
      "Model:                            OLS   Adj. R-squared:                  0.543\n",
      "Method:                 Least Squares   F-statistic:                     3498.\n",
      "Date:                Wed, 23 Aug 2023   Prob (F-statistic):               0.00\n",
      "Time:                        19:13:57   Log-Likelihood:                -24167.\n",
      "No. Observations:               20640   AIC:                         4.835e+04\n",
      "Df Residuals:                   20632   BIC:                         4.841e+04\n",
      "Df Model:                           7                                         \n",
      "Covariance Type:            nonrobust                                         \n",
      "==============================================================================\n",
      "                 coef    std err          t      P>|t|      [0.025      0.975]\n",
      "------------------------------------------------------------------------------\n",
      "const          0.6855      0.100      6.853      0.000       0.489       0.882\n",
      "MedInc         0.5271      0.004    125.655      0.000       0.519       0.535\n",
      "HouseAge       0.0165      0.000     35.685      0.000       0.016       0.017\n",
      "AveRooms      -0.1973      0.006    -32.266      0.000      -0.209      -0.185\n",
      "AveBedrms      0.9362      0.030     31.389      0.000       0.878       0.995\n",
      "Population  1.651e-05    5.1e-06      3.235      0.001     6.5e-06    2.65e-05\n",
      "AveOccup      -0.0048      0.001     -9.117      0.000      -0.006      -0.004\n",
      "Latitude      -0.0307      0.003    -11.694      0.000      -0.036      -0.026\n",
      "==============================================================================\n",
      "Omnibus:                     4368.827   Durbin-Watson:                   0.929\n",
      "Prob(Omnibus):                  0.000   Jarque-Bera (JB):            15212.413\n",
      "Skew:                           1.049   Prob(JB):                         0.00\n",
      "Kurtosis:                       6.645   Cond. No.                     3.37e+04\n",
      "==============================================================================\n",
      "\n",
      "Notes:\n",
      "[1] Standard Errors assume that the covariance matrix of the errors is correctly specified.\n",
      "[2] The condition number is large, 3.37e+04. This might indicate that there are\n",
      "strong multicollinearity or other numerical problems.\n"
     ]
    }
   ],
   "source": [
    "# Do all in the same time\n",
    "result = treat_regression_model(X, y, threshhold_vif = 5, threshold_pval= 0.05, reg_type='OLS')\n",
    "\n",
    "# Print the model summary\n",
    "print(result.model.summary())"
   ]
  },
  {
   "attachments": {},
   "cell_type": "markdown",
   "metadata": {},
   "source": [
    "# Logistic regression case"
   ]
  },
  {
   "cell_type": "code",
   "execution_count": 10,
   "metadata": {},
   "outputs": [
    {
     "name": "stdout",
     "output_type": "stream",
     "text": [
      "                           Logit Regression Results                           \n",
      "==============================================================================\n",
      "Dep. Variable:                 target   No. Observations:                  442\n",
      "Model:                          Logit   Df Residuals:                      436\n",
      "Method:                           MLE   Df Model:                            5\n",
      "Date:                Wed, 23 Aug 2023   Pseudo R-squ.:                  0.2990\n",
      "Time:                        19:21:36   Log-Likelihood:                -212.63\n",
      "converged:                       True   LL-Null:                       -303.31\n",
      "Covariance Type:            nonrobust   LLR p-value:                 2.749e-37\n",
      "==============================================================================\n",
      "                 coef    std err          z      P>|z|      [0.025      0.975]\n",
      "------------------------------------------------------------------------------\n",
      "const         -0.3411      0.121     -2.815      0.005      -0.579      -0.104\n",
      "sex           -9.1309      2.939     -3.107      0.002     -14.891      -3.371\n",
      "bmi           12.1910      3.110      3.919      0.000       6.095      18.287\n",
      "bp            12.9643      2.960      4.379      0.000       7.162      18.766\n",
      "s3            -9.4819      3.250     -2.918      0.004     -15.851      -3.113\n",
      "s5            16.4192      3.252      5.049      0.000      10.045      22.793\n",
      "==============================================================================\n"
     ]
    }
   ],
   "source": [
    "# Load the diabetes dataset\n",
    "data = load_diabetes()\n",
    "X = pd.DataFrame(data.data, columns=data.feature_names)\n",
    "y = data.target\n",
    "\n",
    "# Convert target values to binary labels for logistic regression\n",
    "y_binary = (y > y.mean()).astype(int)\n",
    "\n",
    "# Use the treat_regression_model function with logistic regression\n",
    "result = treat_regression_model(X, pd.DataFrame({'target': y_binary}), threshhold_vif=10, threshold_pval=0.1, reg_type='logit')\n",
    "\n",
    "print(result.model.summary())\n"
   ]
  }
 ],
 "metadata": {
  "kernelspec": {
   "display_name": "bid_management",
   "language": "python",
   "name": "bid_management"
  },
  "language_info": {
   "codemirror_mode": {
    "name": "ipython",
    "version": 3
   },
   "file_extension": ".py",
   "mimetype": "text/x-python",
   "name": "python",
   "nbconvert_exporter": "python",
   "pygments_lexer": "ipython3",
   "version": "3.10.12"
  },
  "orig_nbformat": 4
 },
 "nbformat": 4,
 "nbformat_minor": 2
}
